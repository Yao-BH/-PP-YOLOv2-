{
 "cells": [
  {
   "cell_type": "markdown",
   "metadata": {
    "collapsed": false
   },
   "source": [
    "# 基于PP-YOLOv2的疲劳检测任务（详细清晰的保姆级教程）\n",
    "&emsp;&emsp;基于PPYOLOv2的疲劳检测。\n",
    "看了众多相关文档，在PP-YOLOv2部分的很少，所以特别写了这一篇文档，也希望我踩过的一些坑，可以对大家有些帮助。相关注意事项我在注释以及文字中都会有详细的说明。\n",
    "\n",
    "\n",
    "##  项目背景\n",
    "&emsp;&emsp;貌似这只是一个疲劳检测的任务，其实并不然。\n",
    "他不仅可以用在长时间驾驶时所带来的安全隐患上，还可以用于卷王的自我监督上，用在上课老师对于学生打瞌睡的问题检测方面。\n",
    "这简直就是学生党的福音，所以大家抓紧学习起来，让自己变成一位自律的卷王。本项目还优秀的提供了瞌睡人员计数以及打瞌睡报警方案。\n",
    "![](https://ai-studio-static-online.cdn.bcebos.com/72feb8edeee84b34956f5c0a628019ee69325d67f4964f989f83a196d12ba748)\n",
    "## 数据集简介\n",
    "&emsp;&emsp;数据集来自paddle数据集。其中包含4000多张人像图片便于识别  \n",
    "在本地用paddlex划分数据集，并按格式要求进行调整，比如文件夹名改成JPEGImages。  \n",
    "最后导入aistudio平台。"
   ]
  },
  {
   "cell_type": "markdown",
   "metadata": {
    "collapsed": false
   },
   "source": [
    "# 一、PP-YOLOv2 模型\n",
    "## 简介\n",
    "\n",
    "相较20年发布的PP-YOLO，v2版本在COCO 2017 test-dev上的精度提升了3.6个百分点，由45.9%提升到了49.5%；在640*640的输入尺寸下，FPS达到68.9FPS。 PP-YOLOv2在同等速度下，精度超越YOLOv5！\n",
    "\n",
    "<div align=\"center\">\n",
    "  <img src=\"https://ai-studio-static-online.cdn.bcebos.com/3f0ca399f712482a9ebb1c32ebe6945d69bb610e3aa849a89a4f80910c5c763c\" width=500 />\n",
    "</div>\n",
    "\n",
    "\n",
    "## 模型库\n",
    "\n",
    "### PP-YOLO模型库\n",
    "\n",
    "|          Model           | GPU number | images/GPU |  backbone  | input shape | Box AP<sup>val</sup> | Box AP<sup>test</sup> | V100 FP32(FPS) | V100 TensorRT FP16(FPS) | download | config  |\n",
    "|:------------------------:|:-------:|:-------------:|:----------:| :-------:| :------------------: | :-------------------: | :------------: | :---------------------: | :------: | :------: |\n",
    "| PP-YOLO                  |     8      |     24     | ResNet50vd |     608     |         44.8         |         45.2          |      72.9      |          155.6          | [model](https://paddledet.bj.bcebos.com/models/ppyolo_r50vd_dcn_1x_coco.pdparams) | [config](https://github.com/PaddlePaddle/PaddleDetection/tree/release/2.0/configs/ppyolo/ppyolo_r50vd_dcn_1x_coco.yml)                   |\n",
    "| PP-YOLO                  |     8      |     24     | ResNet50vd |     512     |         43.9         |         44.4          |      89.9      |          188.4          | [model](https://paddledet.bj.bcebos.com/models/ppyolo_r50vd_dcn_1x_coco.pdparams) | [config](https://github.com/PaddlePaddle/PaddleDetection/tree/release/2.0/configs/ppyolo/ppyolo_r50vd_dcn_1x_coco.yml)                   |\n",
    "| PP-YOLO                  |     8      |     24     | ResNet50vd |     416     |         42.1         |         42.5          |      109.1      |          215.4          | [model](https://paddledet.bj.bcebos.com/models/ppyolo_r50vd_dcn_1x_coco.pdparams) | [config](https://github.com/PaddlePaddle/PaddleDetection/tree/release/2.0/configs/ppyolo/ppyolo_r50vd_dcn_1x_coco.yml)                   |\n",
    "| PP-YOLO                  |     8      |     24     | ResNet50vd |     320     |         38.9         |         39.3          |      132.2      |          242.2          | [model](https://paddledet.bj.bcebos.com/models/ppyolo_r50vd_dcn_1x_coco.pdparams) | [config](https://github.com/PaddlePaddle/PaddleDetection/tree/release/2.0/configs/ppyolo/ppyolo_r50vd_dcn_1x_coco.yml)                   |\n",
    "| PP-YOLO_2x               |     8      |     24     | ResNet50vd |     608     |         45.3         |         45.9          |      72.9      |          155.6          | [model](https://paddledet.bj.bcebos.com/models/ppyolo_r50vd_dcn_2x_coco.pdparams) | [config](https://github.com/PaddlePaddle/PaddleDetection/tree/release/2.0/configs/ppyolo/ppyolo_r50vd_dcn_2x_coco.yml)                   |\n",
    "| PP-YOLO_2x               |     8      |     24     | ResNet50vd |     512     |         44.4         |         45.0          |      89.9      |          188.4          | [model](https://paddledet.bj.bcebos.com/models/ppyolo_r50vd_dcn_2x_coco.pdparams) | [config](https://github.com/PaddlePaddle/PaddleDetection/tree/release/2.0/configs/ppyolo/ppyolo_r50vd_dcn_2x_coco.yml)                   |\n",
    "| PP-YOLO_2x               |     8      |     24     | ResNet50vd |     416     |         42.7         |         43.2          |      109.1      |          215.4          | [model](https://paddledet.bj.bcebos.com/models/ppyolo_r50vd_dcn_2x_coco.pdparams) | [config](https://github.com/PaddlePaddle/PaddleDetection/tree/release/2.0/configs/ppyolo/ppyolo_r50vd_dcn_2x_coco.yml)                   |\n",
    "| PP-YOLO_2x               |     8      |     24     | ResNet50vd |     320     |         39.5         |         40.1          |      132.2      |          242.2          | [model](https://paddledet.bj.bcebos.com/models/ppyolo_r50vd_dcn_2x_coco.pdparams) | [config](https://github.com/PaddlePaddle/PaddleDetection/tree/release/2.0/configs/ppyolo/ppyolo_r50vd_dcn_2x_coco.yml)                   |\n",
    "| PP-YOLO               |     4      |     32     | ResNet18vd |     512     |         29.2         |         29.5          |      357.1      |          657.9          | [model](https://paddledet.bj.bcebos.com/models/ppyolo_r18vd_coco.pdparams) | [config](https://github.com/PaddlePaddle/PaddleDetection/tree/release/2.0/configs/ppyolo/ppyolo_r18vd_coco.yml)                   |\n",
    "| PP-YOLO               |     4      |     32     | ResNet18vd |     416     |         28.6         |         28.9          |      409.8      |          719.4          | [model](https://paddledet.bj.bcebos.com/models/ppyolo_r18vd_coco.pdparams) | [config](https://github.com/PaddlePaddle/PaddleDetection/tree/release/2.0/configs/ppyolo/ppyolo_r18vd_coco.yml)                   |\n",
    "| PP-YOLO               |     4      |     32     | ResNet18vd |     320     |         26.2         |         26.4          |      480.7      |          763.4          | [model](https://paddledet.bj.bcebos.com/models/ppyolo_r18vd_coco.pdparams) | [config](https://github.com/PaddlePaddle/PaddleDetection/tree/release/2.0/configs/ppyolo/ppyolo_r18vd_coco.yml)                   |\n",
    "| PP-YOLOv2               |     8      |     12     | ResNet50vd |     640     |         49.1         |         49.5          |      68.9      |          106.5          | [model](https://paddledet.bj.bcebos.com/models/ppyolov2_r50vd_dcn_365e_coco.pdparams) | [config](https://github.com/PaddlePaddle/PaddleDetection/tree/release/2.0/configs/ppyolo/ppyolov2_r50vd_dcn_365e_coco.yml)                   |\n",
    "| PP-YOLOv2               |     8      |     12     | ResNet101vd |     640     |         49.7         |         50.3          |     49.5     |         87.0         | [model](https://paddledet.bj.bcebos.com/models/ppyolov2_r101vd_dcn_365e_coco.pdparams) | [config](https://github.com/PaddlePaddle/PaddleDetection/tree/release/2.0/configs/ppyolo/ppyolov2_r101vd_dcn_365e_coco.yml)                   |\n",
    "\n",
    "\n",
    "**注意:**\n",
    "\n",
    "- PP-YOLO模型使用COCO数据集中train2017作为训练集，使用val2017和test-dev2017作为测试集，Box AP<sup>test</sup>为`mAP(IoU=0.5:0.95)`评估结果。\n",
    "- PP-YOLO模型训练过程中使用8 GPUs，每GPU batch size为24进行训练，如训练GPU数和batch size不使用上述配置，须参考[FAQ](https://github.com/PaddlePaddle/PaddleDetection/blob/release/2.0/static/docs/FAQ.md)调整学习率和迭代次数。\n",
    "- PP-YOLO模型推理速度测试采用单卡V100，batch size=1进行测试，使用CUDA 10.2, CUDNN 7.5.1，TensorRT推理速度测试使用TensorRT 5.1.2.2。\n",
    "- PP-YOLO模型FP32的推理速度测试数据为使用`tools/export_model.py`脚本导出模型后，使用`deploy/python/infer.py`脚本中的`--run_benchnark`参数使用Paddle预测库进行推理速度benchmark测试结果, 且测试的均为不包含数据预处理和模型输出后处理(NMS)的数据(与[YOLOv4(AlexyAB)](https://github.com/AlexeyAB/darknet)测试方法一致)。\n",
    "- TensorRT FP16的速度测试相比于FP32去除了`yolo_box`(bbox解码)部分耗时，即不包含数据预处理，bbox解码和NMS(与[YOLOv4(AlexyAB)](https://github.com/AlexeyAB/darknet)测试方法一致)。\n"
   ]
  },
  {
   "cell_type": "markdown",
   "metadata": {
    "collapsed": false
   },
   "source": [
    "&emsp;&emsp;从上述数据我们可以很明显的分析看出PP-YOLOv2真的是一个很香的算法，他比上一代PP-YOLO更加优秀，而且可以超过2020年发布的YOLOv5算法。所以我们选择了他。"
   ]
  },
  {
   "cell_type": "markdown",
   "metadata": {
    "collapsed": false
   },
   "source": [
    "# 二、环境准备"
   ]
  },
  {
   "cell_type": "markdown",
   "metadata": {
    "collapsed": false
   },
   "source": [
    "## 1.安装paddlex"
   ]
  },
  {
   "cell_type": "code",
   "execution_count": null,
   "metadata": {
    "collapsed": false
   },
   "outputs": [
    {
     "name": "stdout",
     "output_type": "stream",
     "text": [
      "Looking in indexes: https://mirror.baidu.com/pypi/simple\n",
      "Requirement already satisfied: paddlex==2.0.0rc4 in /opt/conda/envs/python35-paddle120-env/lib/python3.7/site-packages (2.0.0rc4)\n",
      "Requirement already satisfied: pyyaml in /opt/conda/envs/python35-paddle120-env/lib/python3.7/site-packages (from paddlex==2.0.0rc4) (5.1.2)\n",
      "Requirement already satisfied: tqdm in /opt/conda/envs/python35-paddle120-env/lib/python3.7/site-packages (from paddlex==2.0.0rc4) (4.36.1)\n",
      "Requirement already satisfied: visualdl>=2.1.1 in /opt/conda/envs/python35-paddle120-env/lib/python3.7/site-packages (from paddlex==2.0.0rc4) (2.2.0)\n",
      "Requirement already satisfied: scipy in /opt/conda/envs/python35-paddle120-env/lib/python3.7/site-packages (from paddlex==2.0.0rc4) (1.3.0)\n",
      "Requirement already satisfied: colorama in /opt/conda/envs/python35-paddle120-env/lib/python3.7/site-packages (from paddlex==2.0.0rc4) (0.4.4)\n",
      "Requirement already satisfied: opencv-python in /opt/conda/envs/python35-paddle120-env/lib/python3.7/site-packages (from paddlex==2.0.0rc4) (4.1.1.26)\n",
      "Requirement already satisfied: shapely>=1.7.0 in /opt/conda/envs/python35-paddle120-env/lib/python3.7/site-packages (from paddlex==2.0.0rc4) (1.8.0)\n",
      "Requirement already satisfied: scikit-learn==0.23.2 in /opt/conda/envs/python35-paddle120-env/lib/python3.7/site-packages (from paddlex==2.0.0rc4) (0.23.2)\n",
      "Requirement already satisfied: pycocotools in /opt/conda/envs/python35-paddle120-env/lib/python3.7/site-packages (from paddlex==2.0.0rc4) (2.0.4)\n",
      "Requirement already satisfied: paddleslim==2.1.0 in /opt/conda/envs/python35-paddle120-env/lib/python3.7/site-packages (from paddlex==2.0.0rc4) (2.1.0)\n",
      "Requirement already satisfied: lap in /opt/conda/envs/python35-paddle120-env/lib/python3.7/site-packages (from paddlex==2.0.0rc4) (0.4.0)\n",
      "Requirement already satisfied: motmetrics in /opt/conda/envs/python35-paddle120-env/lib/python3.7/site-packages (from paddlex==2.0.0rc4) (1.2.0)\n",
      "Requirement already satisfied: pillow in /opt/conda/envs/python35-paddle120-env/lib/python3.7/site-packages (from paddleslim==2.1.0->paddlex==2.0.0rc4) (7.1.2)\n",
      "Requirement already satisfied: pyzmq in /opt/conda/envs/python35-paddle120-env/lib/python3.7/site-packages (from paddleslim==2.1.0->paddlex==2.0.0rc4) (22.3.0)\n",
      "Requirement already satisfied: matplotlib in /opt/conda/envs/python35-paddle120-env/lib/python3.7/site-packages (from paddleslim==2.1.0->paddlex==2.0.0rc4) (2.2.3)\n",
      "Requirement already satisfied: numpy>=1.13.3 in /opt/conda/envs/python35-paddle120-env/lib/python3.7/site-packages (from scikit-learn==0.23.2->paddlex==2.0.0rc4) (1.16.4)\n",
      "Requirement already satisfied: threadpoolctl>=2.0.0 in /opt/conda/envs/python35-paddle120-env/lib/python3.7/site-packages (from scikit-learn==0.23.2->paddlex==2.0.0rc4) (3.0.0)\n",
      "Requirement already satisfied: joblib>=0.11 in /opt/conda/envs/python35-paddle120-env/lib/python3.7/site-packages (from scikit-learn==0.23.2->paddlex==2.0.0rc4) (0.14.1)\n",
      "Requirement already satisfied: shellcheck-py in /opt/conda/envs/python35-paddle120-env/lib/python3.7/site-packages (from visualdl>=2.1.1->paddlex==2.0.0rc4) (0.7.1.1)\n",
      "Requirement already satisfied: flask>=1.1.1 in /opt/conda/envs/python35-paddle120-env/lib/python3.7/site-packages (from visualdl>=2.1.1->paddlex==2.0.0rc4) (1.1.1)\n",
      "Requirement already satisfied: protobuf>=3.11.0 in /opt/conda/envs/python35-paddle120-env/lib/python3.7/site-packages (from visualdl>=2.1.1->paddlex==2.0.0rc4) (3.14.0)\n",
      "Requirement already satisfied: pandas in /opt/conda/envs/python35-paddle120-env/lib/python3.7/site-packages (from visualdl>=2.1.1->paddlex==2.0.0rc4) (1.1.5)\n",
      "Requirement already satisfied: bce-python-sdk in /opt/conda/envs/python35-paddle120-env/lib/python3.7/site-packages (from visualdl>=2.1.1->paddlex==2.0.0rc4) (0.8.53)\n",
      "Requirement already satisfied: pre-commit in /opt/conda/envs/python35-paddle120-env/lib/python3.7/site-packages (from visualdl>=2.1.1->paddlex==2.0.0rc4) (1.21.0)\n",
      "Requirement already satisfied: six>=1.14.0 in /opt/conda/envs/python35-paddle120-env/lib/python3.7/site-packages (from visualdl>=2.1.1->paddlex==2.0.0rc4) (1.16.0)\n",
      "Requirement already satisfied: Flask-Babel>=1.0.0 in /opt/conda/envs/python35-paddle120-env/lib/python3.7/site-packages (from visualdl>=2.1.1->paddlex==2.0.0rc4) (1.0.0)\n",
      "Requirement already satisfied: requests in /opt/conda/envs/python35-paddle120-env/lib/python3.7/site-packages (from visualdl>=2.1.1->paddlex==2.0.0rc4) (2.22.0)\n",
      "Requirement already satisfied: flake8>=3.7.9 in /opt/conda/envs/python35-paddle120-env/lib/python3.7/site-packages (from visualdl>=2.1.1->paddlex==2.0.0rc4) (4.0.1)\n",
      "Requirement already satisfied: pytest in /opt/conda/envs/python35-paddle120-env/lib/python3.7/site-packages (from motmetrics->paddlex==2.0.0rc4) (6.2.5)\n",
      "Requirement already satisfied: xmltodict>=0.12.0 in /opt/conda/envs/python35-paddle120-env/lib/python3.7/site-packages (from motmetrics->paddlex==2.0.0rc4) (0.12.0)\n",
      "Requirement already satisfied: pytest-benchmark in /opt/conda/envs/python35-paddle120-env/lib/python3.7/site-packages (from motmetrics->paddlex==2.0.0rc4) (3.4.1)\n",
      "Requirement already satisfied: flake8-import-order in /opt/conda/envs/python35-paddle120-env/lib/python3.7/site-packages (from motmetrics->paddlex==2.0.0rc4) (0.18.1)\n",
      "Requirement already satisfied: importlib-metadata<4.3 in /opt/conda/envs/python35-paddle120-env/lib/python3.7/site-packages (from flake8>=3.7.9->visualdl>=2.1.1->paddlex==2.0.0rc4) (4.2.0)\n",
      "Requirement already satisfied: pyflakes<2.5.0,>=2.4.0 in /opt/conda/envs/python35-paddle120-env/lib/python3.7/site-packages (from flake8>=3.7.9->visualdl>=2.1.1->paddlex==2.0.0rc4) (2.4.0)\n",
      "Requirement already satisfied: mccabe<0.7.0,>=0.6.0 in /opt/conda/envs/python35-paddle120-env/lib/python3.7/site-packages (from flake8>=3.7.9->visualdl>=2.1.1->paddlex==2.0.0rc4) (0.6.1)\n",
      "Requirement already satisfied: pycodestyle<2.9.0,>=2.8.0 in /opt/conda/envs/python35-paddle120-env/lib/python3.7/site-packages (from flake8>=3.7.9->visualdl>=2.1.1->paddlex==2.0.0rc4) (2.8.0)\n",
      "Requirement already satisfied: itsdangerous>=0.24 in /opt/conda/envs/python35-paddle120-env/lib/python3.7/site-packages (from flask>=1.1.1->visualdl>=2.1.1->paddlex==2.0.0rc4) (1.1.0)\n",
      "Requirement already satisfied: Jinja2>=2.10.1 in /opt/conda/envs/python35-paddle120-env/lib/python3.7/site-packages (from flask>=1.1.1->visualdl>=2.1.1->paddlex==2.0.0rc4) (2.11.0)\n",
      "Requirement already satisfied: Werkzeug>=0.15 in /opt/conda/envs/python35-paddle120-env/lib/python3.7/site-packages (from flask>=1.1.1->visualdl>=2.1.1->paddlex==2.0.0rc4) (0.16.0)\n",
      "Requirement already satisfied: click>=5.1 in /opt/conda/envs/python35-paddle120-env/lib/python3.7/site-packages (from flask>=1.1.1->visualdl>=2.1.1->paddlex==2.0.0rc4) (7.0)\n",
      "Requirement already satisfied: pytz in /opt/conda/envs/python35-paddle120-env/lib/python3.7/site-packages (from Flask-Babel>=1.0.0->visualdl>=2.1.1->paddlex==2.0.0rc4) (2019.3)\n",
      "Requirement already satisfied: Babel>=2.3 in /opt/conda/envs/python35-paddle120-env/lib/python3.7/site-packages (from Flask-Babel>=1.0.0->visualdl>=2.1.1->paddlex==2.0.0rc4) (2.8.0)\n",
      "Requirement already satisfied: pyparsing!=2.0.4,!=2.1.2,!=2.1.6,>=2.0.1 in /opt/conda/envs/python35-paddle120-env/lib/python3.7/site-packages (from matplotlib->paddleslim==2.1.0->paddlex==2.0.0rc4) (3.0.6)\n",
      "Requirement already satisfied: cycler>=0.10 in /opt/conda/envs/python35-paddle120-env/lib/python3.7/site-packages (from matplotlib->paddleslim==2.1.0->paddlex==2.0.0rc4) (0.10.0)\n",
      "Requirement already satisfied: python-dateutil>=2.1 in /opt/conda/envs/python35-paddle120-env/lib/python3.7/site-packages (from matplotlib->paddleslim==2.1.0->paddlex==2.0.0rc4) (2.8.2)\n",
      "Requirement already satisfied: kiwisolver>=1.0.1 in /opt/conda/envs/python35-paddle120-env/lib/python3.7/site-packages (from matplotlib->paddleslim==2.1.0->paddlex==2.0.0rc4) (1.1.0)\n",
      "Requirement already satisfied: future>=0.6.0 in /opt/conda/envs/python35-paddle120-env/lib/python3.7/site-packages (from bce-python-sdk->visualdl>=2.1.1->paddlex==2.0.0rc4) (0.18.0)\n",
      "Requirement already satisfied: pycryptodome>=3.8.0 in /opt/conda/envs/python35-paddle120-env/lib/python3.7/site-packages (from bce-python-sdk->visualdl>=2.1.1->paddlex==2.0.0rc4) (3.9.9)\n",
      "Requirement already satisfied: setuptools in /opt/conda/envs/python35-paddle120-env/lib/python3.7/site-packages (from flake8-import-order->motmetrics->paddlex==2.0.0rc4) (41.4.0)\n",
      "Requirement already satisfied: identify>=1.0.0 in /opt/conda/envs/python35-paddle120-env/lib/python3.7/site-packages (from pre-commit->visualdl>=2.1.1->paddlex==2.0.0rc4) (1.4.10)\n",
      "Requirement already satisfied: aspy.yaml in /opt/conda/envs/python35-paddle120-env/lib/python3.7/site-packages (from pre-commit->visualdl>=2.1.1->paddlex==2.0.0rc4) (1.3.0)\n",
      "Requirement already satisfied: toml in /opt/conda/envs/python35-paddle120-env/lib/python3.7/site-packages (from pre-commit->visualdl>=2.1.1->paddlex==2.0.0rc4) (0.10.0)\n",
      "Requirement already satisfied: virtualenv>=15.2 in /opt/conda/envs/python35-paddle120-env/lib/python3.7/site-packages (from pre-commit->visualdl>=2.1.1->paddlex==2.0.0rc4) (16.7.9)\n",
      "Requirement already satisfied: nodeenv>=0.11.1 in /opt/conda/envs/python35-paddle120-env/lib/python3.7/site-packages (from pre-commit->visualdl>=2.1.1->paddlex==2.0.0rc4) (1.3.4)\n",
      "Requirement already satisfied: cfgv>=2.0.0 in /opt/conda/envs/python35-paddle120-env/lib/python3.7/site-packages (from pre-commit->visualdl>=2.1.1->paddlex==2.0.0rc4) (2.0.1)\n",
      "Requirement already satisfied: pluggy<2.0,>=0.12 in /opt/conda/envs/python35-paddle120-env/lib/python3.7/site-packages (from pytest->motmetrics->paddlex==2.0.0rc4) (0.13.1)\n",
      "Requirement already satisfied: packaging in /opt/conda/envs/python35-paddle120-env/lib/python3.7/site-packages (from pytest->motmetrics->paddlex==2.0.0rc4) (21.3)\n",
      "Requirement already satisfied: attrs>=19.2.0 in /opt/conda/envs/python35-paddle120-env/lib/python3.7/site-packages (from pytest->motmetrics->paddlex==2.0.0rc4) (21.4.0)\n",
      "Requirement already satisfied: py>=1.8.2 in /opt/conda/envs/python35-paddle120-env/lib/python3.7/site-packages (from pytest->motmetrics->paddlex==2.0.0rc4) (1.11.0)\n",
      "Requirement already satisfied: iniconfig in /opt/conda/envs/python35-paddle120-env/lib/python3.7/site-packages (from pytest->motmetrics->paddlex==2.0.0rc4) (1.1.1)\n",
      "Requirement already satisfied: py-cpuinfo in /opt/conda/envs/python35-paddle120-env/lib/python3.7/site-packages (from pytest-benchmark->motmetrics->paddlex==2.0.0rc4) (8.0.0)\n",
      "Requirement already satisfied: certifi>=2017.4.17 in /opt/conda/envs/python35-paddle120-env/lib/python3.7/site-packages (from requests->visualdl>=2.1.1->paddlex==2.0.0rc4) (2019.9.11)\n",
      "Requirement already satisfied: urllib3!=1.25.0,!=1.25.1,<1.26,>=1.21.1 in /opt/conda/envs/python35-paddle120-env/lib/python3.7/site-packages (from requests->visualdl>=2.1.1->paddlex==2.0.0rc4) (1.25.6)\n",
      "Requirement already satisfied: idna<2.9,>=2.5 in /opt/conda/envs/python35-paddle120-env/lib/python3.7/site-packages (from requests->visualdl>=2.1.1->paddlex==2.0.0rc4) (2.8)\n",
      "Requirement already satisfied: chardet<3.1.0,>=3.0.2 in /opt/conda/envs/python35-paddle120-env/lib/python3.7/site-packages (from requests->visualdl>=2.1.1->paddlex==2.0.0rc4) (3.0.4)\n",
      "Requirement already satisfied: zipp>=0.5 in /opt/conda/envs/python35-paddle120-env/lib/python3.7/site-packages (from importlib-metadata<4.3->flake8>=3.7.9->visualdl>=2.1.1->paddlex==2.0.0rc4) (3.7.0)\n",
      "Requirement already satisfied: typing-extensions>=3.6.4 in /opt/conda/envs/python35-paddle120-env/lib/python3.7/site-packages (from importlib-metadata<4.3->flake8>=3.7.9->visualdl>=2.1.1->paddlex==2.0.0rc4) (4.0.1)\n",
      "Requirement already satisfied: MarkupSafe>=0.23 in /opt/conda/envs/python35-paddle120-env/lib/python3.7/site-packages (from Jinja2>=2.10.1->flask>=1.1.1->visualdl>=2.1.1->paddlex==2.0.0rc4) (2.0.1)\n"
     ]
    }
   ],
   "source": [
    "! pip install paddlex==2.0.0rc4 -i https://mirror.baidu.com/pypi/simple"
   ]
  },
  {
   "cell_type": "markdown",
   "metadata": {
    "collapsed": false
   },
   "source": [
    " &emsp;&emsp;解压数据压缩包"
   ]
  },
  {
   "cell_type": "code",
   "execution_count": null,
   "metadata": {
    "collapsed": false
   },
   "outputs": [
    {
     "name": "stdout",
     "output_type": "stream",
     "text": [
      "Archive:  /home/aistudio/data/data105521/Fatigue.zip\n",
      "replace ./Dataset/dataset/Annotations/0.xml? [y]es, [n]o, [A]ll, [N]one, [r]ename: ^C\n"
     ]
    }
   ],
   "source": [
    "!unzip /home/aistudio/data/data105521/Fatigue.zip -d ./Dataset"
   ]
  },
  {
   "cell_type": "markdown",
   "metadata": {
    "collapsed": false
   },
   "source": [
    "## 2.数据加载与数据预处理"
   ]
  },
  {
   "cell_type": "markdown",
   "metadata": {
    "collapsed": false
   },
   "source": [
    "&emsp;&emsp;经过测试发现，由于原数据集中存在图片数据与标注数据不匹配的问题，故我们需要将不匹配的这部分数据删除。"
   ]
  },
  {
   "cell_type": "code",
   "execution_count": null,
   "metadata": {
    "collapsed": false
   },
   "outputs": [
    {
     "name": "stdout",
     "output_type": "stream",
     "text": [
      "3580.xml\r"
     ]
    }
   ],
   "source": [
    "import os,shutil\r\n",
    "\r\n",
    "jpeg = 'Dataset/dataset/JPEGImages'\r\n",
    "jpeg_list = os.listdir(jpeg)\r\n",
    "\r\n",
    "anno = 'Dataset/dataset/Annotations'\r\n",
    "anno_list = os.listdir(anno)\r\n",
    "\r\n",
    "for pic in jpeg_list:\r\n",
    "    name = pic.split('.')[0]\r\n",
    "    anno_name = name + '.xml'\r\n",
    "    print(anno_name)\r\n",
    "    if anno_name not in anno_list:\r\n",
    "        os.remove(os.path.join(jpeg,pic))\r\n"
   ]
  },
  {
   "cell_type": "markdown",
   "metadata": {
    "collapsed": false
   },
   "source": [
    "&emsp;&emsp;以下我们利用paddlex的API将训练集、验证集和测试集按照7：2：1的比例划分。 \n",
    "&emsp;&emsp;PaddleX中提供了简单易用的API，方便用户直接使用进行数据划分。下面这行代码正确执行的前提是，PaddleX的版本和Paddle匹配，要么都是2.0+，要么都是1.8.X。"
   ]
  },
  {
   "cell_type": "code",
   "execution_count": null,
   "metadata": {
    "collapsed": false
   },
   "outputs": [
    {
     "name": "stdout",
     "output_type": "stream",
     "text": [
      "/opt/conda/envs/python35-paddle120-env/lib/python3.7/site-packages/setuptools/depends.py:2: DeprecationWarning: the imp module is deprecated in favour of importlib; see the module's documentation for alternative uses\n",
      "  import imp\n",
      "/opt/conda/envs/python35-paddle120-env/lib/python3.7/site-packages/paddle/distributed/parallel.py:120: UserWarning: Currently not a parallel execution environment, `paddle.distributed.init_parallel_env` will not do anything.\n",
      "  \"Currently not a parallel execution environment, `paddle.distributed.init_parallel_env` will not do anything.\"\n",
      "\u001b[32m[01-25 01:10:17 MainThread @logger.py:242]\u001b[0m Argv: /opt/conda/envs/python35-paddle120-env/bin/paddlex --split_dataset --format VOC --dataset_dir Dataset/dataset --val_value 0.2 --test_value 0.1\n",
      "\u001b[0m\u001b[33m[01-25 01:10:17 MainThread @utils.py:79]\u001b[0m \u001b[5m\u001b[33mWRN\u001b[0m paddlepaddle version: 2.1.2. The dynamic graph version of PARL is under development, not fully tested and supported\n",
      "\u001b[0m\u001b[0m/opt/conda/envs/python35-paddle120-env/lib/python3.7/site-packages/parl/remote/communication.py:38: DeprecationWarning: 'pyarrow.default_serialization_context' is deprecated as of 2.0.0 and will be removed in a future version. Use pickle or the pyarrow IPC functionality instead.\n",
      "  context = pyarrow.default_serialization_context()\n",
      "\u001b[0m/opt/conda/envs/python35-paddle120-env/lib/python3.7/site-packages/matplotlib/__init__.py:107: DeprecationWarning: Using or importing the ABCs from 'collections' instead of from 'collections.abc' is deprecated, and in 3.8 it will stop working\n",
      "  from collections import MutableMapping\n",
      "\u001b[0m/opt/conda/envs/python35-paddle120-env/lib/python3.7/site-packages/matplotlib/rcsetup.py:20: DeprecationWarning: Using or importing the ABCs from 'collections' instead of from 'collections.abc' is deprecated, and in 3.8 it will stop working\n",
      "  from collections import Iterable, Mapping\n",
      "\u001b[0m/opt/conda/envs/python35-paddle120-env/lib/python3.7/site-packages/matplotlib/colors.py:53: DeprecationWarning: Using or importing the ABCs from 'collections' instead of from 'collections.abc' is deprecated, and in 3.8 it will stop working\n",
      "  from collections import Sized\n",
      "2022-01-25 01:10:18 [INFO]\tDataset split starts...\u001b[0m\n",
      "\u001b[0m2022-01-25 01:10:18 [INFO]\tDataset split done.\u001b[0m\n",
      "\u001b[0m2022-01-25 01:10:18 [INFO]\tTrain samples: 2041\u001b[0m\n",
      "\u001b[0m2022-01-25 01:10:18 [INFO]\tEval samples: 582\u001b[0m\n",
      "\u001b[0m2022-01-25 01:10:18 [INFO]\tTest samples: 291\u001b[0m\n",
      "\u001b[0m2022-01-25 01:10:18 [INFO]\tSplit files saved in Dataset/dataset\u001b[0m\n",
      "\u001b[0m\u001b[0m\u001b[0m"
     ]
    }
   ],
   "source": [
    "!paddlex --split_dataset --format VOC --dataset_dir Dataset/dataset --val_value 0.2 --test_value 0.1"
   ]
  },
  {
   "cell_type": "markdown",
   "metadata": {
    "collapsed": false
   },
   "source": [
    "&emsp;&emsp;到这里，基于PaddleX强大的API功能，我们也将疲劳数据集完成了整理、划分\n",
    "（不得不说paddlex对于初学者而言真的是方便很多，强大的API真的很香）"
   ]
  },
  {
   "cell_type": "markdown",
   "metadata": {
    "collapsed": false
   },
   "source": [
    "# 三、模型的选择和开发\n",
    "&emsp;&emsp;这里我们选择使用PP-YOLOv2算法"
   ]
  },
  {
   "cell_type": "markdown",
   "metadata": {
    "collapsed": false
   },
   "source": [
    "## 定义图像处理流程transforms\n",
    "&emsp;&emsp;定义数据处理流程，其中训练和测试需分别定义，训练过程包括了部分测试过程中不需要的数据增强操作，如在本示例中，训练过程使用了`MixupImage`、`RandomDistort`、`RandomExpand`、`RandomCrop`、`RandomHorizontalFlip`和`BatchRandomResize`共6种数据增强方式，更多图像预处理流程transforms的使用可参见[paddlex.transforms](https://github.com/PaddlePaddle/PaddleX/tree/develop/dygraph/docs/apis/transforms/transforms.md)。"
   ]
  },
  {
   "cell_type": "code",
   "execution_count": null,
   "metadata": {
    "collapsed": false
   },
   "outputs": [
    {
     "name": "stderr",
     "output_type": "stream",
     "text": [
      "/opt/conda/envs/python35-paddle120-env/lib/python3.7/site-packages/paddle/distributed/parallel.py:120: UserWarning: Currently not a parallel execution environment, `paddle.distributed.init_parallel_env` will not do anything.\n",
      "  \"Currently not a parallel execution environment, `paddle.distributed.init_parallel_env` will not do anything.\"\n"
     ]
    },
    {
     "name": "stdout",
     "output_type": "stream",
     "text": [
      "[01-25 01:10:22 MainThread @utils.py:79] WRN paddlepaddle version: 2.1.2. The dynamic graph version of PARL is under development, not fully tested and supported\n"
     ]
    },
    {
     "name": "stderr",
     "output_type": "stream",
     "text": [
      "/opt/conda/envs/python35-paddle120-env/lib/python3.7/site-packages/parl/remote/communication.py:38: DeprecationWarning: 'pyarrow.default_serialization_context' is deprecated as of 2.0.0 and will be removed in a future version. Use pickle or the pyarrow IPC functionality instead.\n",
      "  context = pyarrow.default_serialization_context()\n",
      "/opt/conda/envs/python35-paddle120-env/lib/python3.7/site-packages/matplotlib/__init__.py:107: DeprecationWarning: Using or importing the ABCs from 'collections' instead of from 'collections.abc' is deprecated, and in 3.8 it will stop working\n",
      "  from collections import MutableMapping\n",
      "/opt/conda/envs/python35-paddle120-env/lib/python3.7/site-packages/matplotlib/rcsetup.py:20: DeprecationWarning: Using or importing the ABCs from 'collections' instead of from 'collections.abc' is deprecated, and in 3.8 it will stop working\n",
      "  from collections import Iterable, Mapping\n",
      "/opt/conda/envs/python35-paddle120-env/lib/python3.7/site-packages/matplotlib/colors.py:53: DeprecationWarning: Using or importing the ABCs from 'collections' instead of from 'collections.abc' is deprecated, and in 3.8 it will stop working\n",
      "  from collections import Sized\n"
     ]
    }
   ],
   "source": [
    "import paddlex as pdx\r\n",
    "from paddlex import transforms as T\r\n",
    "\r\n",
    "# 定义训练和验证时的transforms\r\n",
    "# API说明：https://github.com/PaddlePaddle/PaddleX/blob/develop/dygraph/docs/apis/transforms/transforms.md\r\n",
    "\r\n",
    "train_transforms = T.Compose([\r\n",
    "    T.MixupImage(mixup_epoch=-1), T.RandomDistort(),\r\n",
    "    T.RandomExpand(im_padding_value=[123.675, 116.28, 103.53]), T.RandomCrop(),\r\n",
    "    T.RandomHorizontalFlip(), T.BatchRandomResize(\r\n",
    "        target_sizes=[\r\n",
    "            320, 352, 384, 416, 448, 480, 512, 544, 576, 608, 640, 672, 704,\r\n",
    "            736, 768\r\n",
    "        ],\r\n",
    "        interp='RANDOM'), T.Normalize(\r\n",
    "            mean=[0.485, 0.456, 0.406], std=[0.229, 0.224, 0.225])\r\n",
    "])\r\n",
    "\r\n",
    "eval_transforms = T.Compose([\r\n",
    "    T.Resize(\r\n",
    "        target_size=640, interp='CUBIC'), T.Normalize(\r\n",
    "            mean=[0.485, 0.456, 0.406], std=[0.229, 0.224, 0.225])\r\n",
    "])"
   ]
  },
  {
   "cell_type": "markdown",
   "metadata": {
    "collapsed": false
   },
   "source": [
    "## 定义数据集Dataset\n",
    "&emsp;&emsp;分类使用`VOCDetection`格式的数据集，因此采用pdx.datasets.ImageNet来加载数据集，该接口的介绍可参见文档paddlex.datasets.VOCDetection。\n",
    "\n",
    "&emsp;&emsp;定义训练和验证所用的数据集\n",
    "Path为数据集所在目录路径，可以改成自己的数据集路径，进行不同的数据训练。\n",
    "PaddleX最核心的特点就是模型训练极其简单，比如下面几行代码演示的，只要配置了数据集目录，选择好模型即可。"
   ]
  },
  {
   "cell_type": "code",
   "execution_count": null,
   "metadata": {
    "collapsed": false
   },
   "outputs": [
    {
     "name": "stdout",
     "output_type": "stream",
     "text": [
      "2022-01-25 01:10:23 [INFO]\tStarting to read file list from dataset...\n",
      "2022-01-25 01:10:26 [INFO]\t2041 samples in file Dataset/dataset/train_list.txt\n",
      "creating index...\n",
      "index created!\n",
      "2022-01-25 01:10:27 [INFO]\tStarting to read file list from dataset...\n",
      "2022-01-25 01:10:27 [INFO]\t582 samples in file Dataset/dataset/val_list.txt\n",
      "creating index...\n",
      "index created!\n"
     ]
    }
   ],
   "source": [
    "Path = 'Dataset/dataset'\r\n",
    "train_dataset = pdx.datasets.VOCDetection(\r\n",
    "                    data_dir= Path,\r\n",
    "                    file_list= Path + '/train_list.txt',\r\n",
    "                    label_list= Path + '/labels.txt',\r\n",
    "                    transforms=train_transforms,\r\n",
    "                    shuffle=True)\r\n",
    "eval_dataset = pdx.datasets.VOCDetection(\r\n",
    "                    data_dir= Path,\r\n",
    "                    file_list= Path + '/val_list.txt',\r\n",
    "                    label_list= Path + '/labels.txt',\r\n",
    "                    transforms=eval_transforms,\r\n",
    "                    shuffle=False)"
   ]
  },
  {
   "cell_type": "markdown",
   "metadata": {
    "collapsed": false
   },
   "source": [
    "## 配置GPU\n",
    "&emsp;&emsp;设置使用0号GPU卡（如果没有配置GPU，则会在执行此代码后，仍然会使用CPU来训练模型）"
   ]
  },
  {
   "cell_type": "code",
   "execution_count": null,
   "metadata": {
    "collapsed": false
   },
   "outputs": [],
   "source": [
    "import os\r\n",
    "# os.environ['CUDA_VISIBLE_DEVICES'] = '0'\r\n",
    "# os.chdir('/home/aistudio/work/')"
   ]
  },
  {
   "cell_type": "markdown",
   "metadata": {
    "collapsed": false
   },
   "source": [
    "## 模型建立\n",
    "&emsp;&emsp;涉及到PaddleX中目标检测模型的选择，最关键的就是这行代码\n",
    "\n",
    "`model = pdx.det.PPYOLOv2(num_classes=num_classes, backbone='ResNet50_vd_dcn')`\n",
    "我们可以通过调整这行代码中的一些模块对于训练模型进行选择"
   ]
  },
  {
   "cell_type": "code",
   "execution_count": null,
   "metadata": {
    "collapsed": false
   },
   "outputs": [],
   "source": [
    "num_classes = len(train_dataset.labels)\r\n",
    "model = pdx.det.PPYOLOv2(num_classes=num_classes, backbone='ResNet50_vd_dcn')"
   ]
  },
  {
   "cell_type": "markdown",
   "metadata": {
    "collapsed": false
   },
   "source": [
    "## 模型训练\n",
    "&emsp;&emsp;使用本数据集在V100上训练，如有GPU，模型的训练过程会更加快速。更多训练模型的参数可参见文档[paddlex.det.PPYOLOv2](https://github.com/PaddlePaddle/PaddleX/blob/develop/dygraph/docs/apis/models/detection.md#paddlexdetppyolov2)。模型训练过程每间隔save_interval_epochs轮会保存一次模型在save_dir目录下，同时在保存的过程中也会在验证数据集上计算相关指标，具体相关日志参见[文档](https://github.com/PaddlePaddle/PaddleX/blob/develop/dygraph/docs/appendix/metrics.md#yolov3)。  "
   ]
  },
  {
   "cell_type": "code",
   "execution_count": 6,
   "metadata": {
    "collapsed": false
   },
   "outputs": [
    {
     "name": "stdout",
     "output_type": "stream",
     "text": [
      "2022-01-25 01:12:14 [INFO]\tDownloading ppyolov2_r50vd_dcn_365e_coco.pdparams from https://paddledet.bj.bcebos.com/models/ppyolov2_r50vd_dcn_365e_coco.pdparams\n"
     ]
    },
    {
     "name": "stderr",
     "output_type": "stream",
     "text": [
      "100%|██████████| 322029/322029 [00:08<00:00, 37580.14KB/s]\n"
     ]
    },
    {
     "name": "stdout",
     "output_type": "stream",
     "text": [
      "2022-01-25 01:12:22 [INFO]\tLoading pretrained model from output/222ppyolov2_r50vd_dcn/pretrain/ppyolov2_r50vd_dcn_365e_coco.pdparams\n",
      "2022-01-25 01:12:24 [WARNING]\t[SKIP] Shape of pretrained params yolo_head.yolo_output.0.weight doesn't match.(Pretrained: [258, 1024, 1, 1], Actual: [30, 1024, 1, 1])\n",
      "2022-01-25 01:12:24 [WARNING]\t[SKIP] Shape of pretrained params yolo_head.yolo_output.0.bias doesn't match.(Pretrained: [258], Actual: [30])\n",
      "2022-01-25 01:12:24 [WARNING]\t[SKIP] Shape of pretrained params yolo_head.yolo_output.1.weight doesn't match.(Pretrained: [258, 512, 1, 1], Actual: [30, 512, 1, 1])\n",
      "2022-01-25 01:12:24 [WARNING]\t[SKIP] Shape of pretrained params yolo_head.yolo_output.1.bias doesn't match.(Pretrained: [258], Actual: [30])\n",
      "2022-01-25 01:12:24 [WARNING]\t[SKIP] Shape of pretrained params yolo_head.yolo_output.2.weight doesn't match.(Pretrained: [258, 256, 1, 1], Actual: [30, 256, 1, 1])\n",
      "2022-01-25 01:12:24 [WARNING]\t[SKIP] Shape of pretrained params yolo_head.yolo_output.2.bias doesn't match.(Pretrained: [258], Actual: [30])\n",
      "2022-01-25 01:12:24 [INFO]\tThere are 526/532 variables loaded into PPYOLOv2.\n"
     ]
    },
    {
     "name": "stderr",
     "output_type": "stream",
     "text": [
      "/opt/conda/envs/python35-paddle120-env/lib/python3.7/site-packages/paddle/nn/layer/norm.py:641: UserWarning: When training, we now always track global mean and variance.\n",
      "  \"When training, we now always track global mean and variance.\")\n",
      "/opt/conda/envs/python35-paddle120-env/lib/python3.7/site-packages/paddle/fluid/dygraph/math_op_patch.py:239: UserWarning: The dtype of left and right variables are not the same, left dtype is paddle.int64, but right dtype is paddle.float32, the right dtype will convert to paddle.int64\n",
      "  format(lhs_dtype, rhs_dtype, lhs_dtype))\n",
      "/opt/conda/envs/python35-paddle120-env/lib/python3.7/site-packages/paddle/fluid/dygraph/math_op_patch.py:239: UserWarning: The dtype of left and right variables are not the same, left dtype is paddle.float32, but right dtype is paddle.int64, the right dtype will convert to paddle.float32\n",
      "  format(lhs_dtype, rhs_dtype, lhs_dtype))\n"
     ]
    }
   ],
   "source": [
    "# API说明：https://github.com/PaddlePaddle/PaddleX/blob/develop/dygraph/docs/apis/models/detection.md\r\n",
    "# 各参数介绍与调整说明：https://github.com/PaddlePaddle/PaddleX/blob/develop/dygraph/docs/parameters.md\r\n",
    "\r\n",
    "model.train(\r\n",
    "    num_epochs=120,                      # 训练轮次\r\n",
    "    train_dataset=train_dataset,         # 训练数据\r\n",
    "    eval_dataset=eval_dataset,           # 验证数据\r\n",
    "    train_batch_size=5,                 # 批大小\r\n",
    "    learning_rate=0.000125,              # 学习率\r\n",
    "    warmup_steps=1000,                   # 预热步数\r\n",
    "    warmup_start_lr=0.0,                 # 预热起始学习率\r\n",
    "    save_interval_epochs=3,              # 每3个轮次保存一次，有验证数据时，自动评估\r\n",
    "    pretrain_weights='COCO',\r\n",
    "    lr_decay_epochs=[98, 100, 108],          # step学习率衰减\r\n",
    "    save_dir='output/222ppyolov2_r50vd_dcn')\r\n",
    "\r\n"
   ]
  },
  {
   "cell_type": "markdown",
   "metadata": {
    "collapsed": false
   },
   "source": [
    "## 模型预测\n",
    "&emsp;&emsp;我们通过测试集和百度中搜索到的一些照片进行了一些预测，结果都可以。\n",
    "我们的模型主要通过疲劳时打哈欠与闭眼进行疲劳检测。"
   ]
  },
  {
   "cell_type": "code",
   "execution_count": null,
   "metadata": {
    "collapsed": false
   },
   "outputs": [],
   "source": [
    "%matplotlib inline\r\n",
    "import matplotlib as mpl\r\n",
    "import matplotlib.pyplot as plt # plt 用于显示图片\r\n",
    "import numpy as np\r\n",
    "import cv2\r\n",
    "\r\n",
    "import paddlex as pdx\r\n",
    "model = pdx.load_model('output/ppyolov2_r50vd_dcn/best_model')\r\n",
    "\r\n",
    "image_names = ['Dataset/dataset/JPEGImages/20.jpg',\r\n",
    "            'Dataset/dataset/JPEGImages/615.jpg',\r\n",
    "            'test/3.jpg',\r\n",
    "            'test/4.jpg'\r\n",
    "            ]\r\n",
    "\r\n",
    "\r\n",
    "\r\n",
    "for image_name in image_names:\r\n",
    "    result = model.predict(image_name)\r\n",
    "\r\n",
    "    #保存图片\r\n",
    "    pdx.det.visualize(image_name, result, threshold=0.5, save_dir='./output/ppyolov2_r50vd_dcn/predict')\r\n",
    "\r\n",
    "    # 显示图片\r\n",
    "    img=pdx.det.visualize(image_name, result, threshold=0.5, save_dir=None)\r\n",
    "    # 转RGB\r\n",
    "    img_rgb = cv2.cvtColor(img, cv2.COLOR_BGR2RGB)\r\n",
    "    # 调整大小\r\n",
    "    fig, ax=plt.subplots(dpi=150)\r\n",
    "    plt.imshow(img_rgb)\r\n",
    "    plt.axis('off') # 不显示坐标轴\r\n",
    "    plt.show()\r\n"
   ]
  },
  {
   "cell_type": "markdown",
   "metadata": {
    "collapsed": false
   },
   "source": [
    "# 拓展\n",
    "&emsp;&emsp;用于计算上课时打瞌睡的人数，妙啊。\n",
    "目前这部分还需要一些优化，还存在一些小问题。"
   ]
  },
  {
   "cell_type": "code",
   "execution_count": null,
   "metadata": {
    "collapsed": false
   },
   "outputs": [],
   "source": [
    "import glob\r\n",
    "import numpy as np\r\n",
    "import threading\r\n",
    "import time\r\n",
    "import random\r\n",
    "import os\r\n",
    "import base64\r\n",
    "import cv2\r\n",
    "import json\r\n",
    "import paddlex as pdx\r\n",
    "# 传入待预测图片\r\n",
    "image_name = 'Dataset/dataset/JPEGImages/36.jpg'\r\n",
    "# 模型保存位置\r\n",
    "model = pdx.load_model('output/ppyolov2_r50vd_dcn/best_model')\r\n",
    "\r\n",
    "img = cv2.imread(image_name)\r\n",
    "result = model.predict(img)\r\n",
    "\r\n",
    "keep_results = []\r\n",
    "areas = []\r\n",
    "f = open('./output/ppyolov2_r50vd_dcn/predict/yolov3_mobilenet/result.txt', 'a')\r\n",
    "count = 0\r\n",
    "for dt in np.array(result):\r\n",
    "    cname, bbox, score = dt['category'], dt['bbox'], dt['score']\r\n",
    "    if score < 0.5:\r\n",
    "        continue\r\n",
    "    keep_results.append(dt)\r\n",
    "    # 检测到打瞌睡的目标，计数加1\r\n",
    "    if cname == 'open_mouth': \r\n",
    "        count += 1\r\n",
    "    f.write(str(dt) + '\\n')\r\n",
    "    f.write('\\n')\r\n",
    "    areas.append(bbox[2] * bbox[3])\r\n",
    "areas = np.asarray(areas)\r\n",
    "sorted_idxs = np.argsort(-areas).tolist()\r\n",
    "keep_results = [keep_results[k]\r\n",
    "                for k in sorted_idxs] if len(keep_results) > 0 else []\r\n",
    "print(keep_results)\r\n",
    "print(count)\r\n",
    "f.write(\"当前打瞌睡的人员总数为: \" + str(int(count)))\r\n",
    "f.close()\r\n"
   ]
  },
  {
   "cell_type": "code",
   "execution_count": null,
   "metadata": {
    "collapsed": false
   },
   "outputs": [],
   "source": [
    "pdx.visualize_detection(\r\n",
    "    image_name, result, threshold=0.5, save_dir='./output/ppyolov2_r50vd_dcn')"
   ]
  },
  {
   "cell_type": "markdown",
   "metadata": {
    "collapsed": false
   },
   "source": [
    "# 总结\n",
    "&emsp;&emsp;目前项目还有很多可以优化的方面\n",
    ">1.本文中指出的一些地方，我都进行了一些简单化的修改，大家在实验项目的时候只需要修改数据集以及文件目录即可。\n",
    "\n",
    ">2.后期可以放入比如左顾右盼，接打电话，小动作等不同图片的训练集，以增强该项目的特点\n",
    "\n",
    ">3.本项目只是一个适用于初学paddle的一个练手小项目，如果有不完善的地方，我会慢慢改进的。\n",
    "\n",
    ">4.同时也感谢平台上一些优秀大佬的文章分享，让我对于这篇文章有了一些思路。"
   ]
  },
  {
   "cell_type": "markdown",
   "metadata": {
    "collapsed": false
   },
   "source": [
    "# 个人简介\n",
    ">2020级 数据科学与大数据技术专业 本科生 姚博豪\n",
    "\n",
    ">本人是一名在深度学习路上奔跑的小白。这是我第一个在AI Studio上面的项目，也希望我踩过坑的一些经验，可以对大家有一些帮助。\n",
    "\n",
    ">百度飞桨领航团团长\n",
    "\n",
    ">互联网＋省级银奖，中国高校计算机大赛西北赛区二等奖等\n",
    "\n",
    ">[姚菜菜的主页](https://aistudio.baidu.com/aistudio/personalcenter/thirdview/755022)\n"
   ]
  }
 ],
 "metadata": {
  "kernelspec": {
   "display_name": "Python 3",
   "language": "python",
   "name": "py35-paddle1.2.0"
  },
  "language_info": {
   "codemirror_mode": {
    "name": "ipython",
    "version": 3
   },
   "file_extension": ".py",
   "mimetype": "text/x-python",
   "name": "python",
   "nbconvert_exporter": "python",
   "pygments_lexer": "ipython3",
   "version": "3.7.4"
  }
 },
 "nbformat": 4,
 "nbformat_minor": 1
}
